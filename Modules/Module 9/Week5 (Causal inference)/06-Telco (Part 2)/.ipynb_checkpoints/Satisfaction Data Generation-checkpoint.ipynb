{
 "cells": [
  {
   "cell_type": "code",
   "execution_count": 1,
   "metadata": {},
   "outputs": [
    {
     "name": "stdout",
     "output_type": "stream",
     "text": [
      "(1231, 5)\n"
     ]
    }
   ],
   "source": [
    "import numpy as np\n",
    "import pandas as pd\n",
    "\n",
    "def get_project_data():\n",
    "    n_projects = 1000000\n",
    "    np.random.seed(0)\n",
    "    # Generate project attributes\n",
    "    past_p  = np.array(['High', 'Low'])[np.random.binomial(1, 0.5, n_projects)]\n",
    "    job_s = np.array(['High', 'Low'])[np.random.binomial(1, 0.5, n_projects)]\n",
    "    new_e = np.array(['No', 'Yes'])[np.random.binomial(1, 0.5, n_projects)]\n",
    "    # Assign treatment\n",
    "    prob_table1 = {'High': {'High': {'No': 0.1, 'Yes': 0.1},\n",
    "                           'Low': {'No': 0.9, 'Yes': 0.1}},\n",
    "                   'Low': {'High': {'No': 0.9, 'Yes': 0.1},\n",
    "                           'Low': {'No': 0.9, 'Yes': 0.9}}}\n",
    "    probs_b = [prob_table1[past_p[i]][job_s[i]][new_e[i]] for i in range(n_projects)]\n",
    "    training_b = np.array(['Yes', 'No'])[np.random.binomial(1, probs_b)]\n",
    "    # Build data frame\n",
    "    data = {\"AttendedTraining\": training_b, \"PastPerformance\": past_p, \"RecentlyHired\": new_e, \"JobSatisfaction\": job_s}\n",
    "    data = pd.DataFrame(data)\n",
    "    data = data.groupby(['AttendedTraining', 'PastPerformance', \n",
    "                         'JobSatisfaction', 'RecentlyHired']).apply(lambda x: x.sample(frac=.00123))\n",
    "    data = data.reset_index(drop=True).sample(frac=1)\n",
    "    # Obtain performance\n",
    "    performance = (data.PastPerformance == 'Low')*-4 + (data.RecentlyHired == 'Yes')*-3 + (data.JobSatisfaction == 'Low')*-1\n",
    "    performance += -performance.min() + 1 \n",
    "    data['Performance'] = performance / performance.max()   \n",
    "    return data\n",
    "\n",
    "df = get_project_data()\n",
    "print(df.shape)\n",
    "df.head()\n",
    "df.to_csv(\"employee_training.csv\", index=False)"
   ]
  },
  {
   "cell_type": "code",
   "execution_count": 4,
   "metadata": {},
   "outputs": [
    {
     "data": {
      "text/plain": [
       "AttendedTraining\n",
       "No     0.511255\n",
       "Yes    0.600072\n",
       "Name: Performance, dtype: float64"
      ]
     },
     "execution_count": 4,
     "metadata": {},
     "output_type": "execute_result"
    }
   ],
   "source": [
    "df.groupby(\"AttendedTraining\").Performance.mean()"
   ]
  }
 ],
 "metadata": {
  "anaconda-cloud": {},
  "kernelspec": {
   "display_name": "Python 3",
   "language": "python",
   "name": "python3"
  },
  "language_info": {
   "codemirror_mode": {
    "name": "ipython",
    "version": 3
   },
   "file_extension": ".py",
   "mimetype": "text/x-python",
   "name": "python",
   "nbconvert_exporter": "python",
   "pygments_lexer": "ipython3",
   "version": "3.8.8"
  }
 },
 "nbformat": 4,
 "nbformat_minor": 2
}
