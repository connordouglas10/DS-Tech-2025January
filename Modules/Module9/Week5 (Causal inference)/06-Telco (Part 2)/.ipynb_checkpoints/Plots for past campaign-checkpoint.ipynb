{
 "cells": [
  {
   "cell_type": "code",
   "execution_count": 1,
   "id": "b11ff421",
   "metadata": {},
   "outputs": [
    {
     "data": {
      "image/png": "[encoded data removed]",
      "text/plain": [
       "<Figure size 432x288 with 1 Axes>"
      ]
     },
     "metadata": {
      "needs_background": "light"
     },
     "output_type": "display_data"
    }
   ],
   "source": [
    "import pandas as pd\n",
    "import numpy as np\n",
    "import matplotlib.pyplot as plt\n",
    "import matplotlib.ticker as mtick\n",
    "\n",
    "df = pd.read_csv(\"past_campaign.csv\")\n",
    "\n",
    "# Create Chart 1\n",
    "group = df.groupby(\"Received Incentive\")\n",
    "counts = group.Total.sum()\n",
    "churn_rates = group.Churn.sum() / counts\n",
    "sds = 1.96 * 100 * np.sqrt(churn_rates * (1 -churn_rates) / counts)\n",
    "churn_rates = 100* group.Churn.sum() / group.Total.sum()\n",
    "ax = churn_rates.plot.bar(yerr=sds)\n",
    "ax.set_title(\"Churn Rate\")\n",
    "plt.xticks(rotation=0)\n",
    "ax.yaxis.set_major_formatter(mtick.PercentFormatter())\n",
    "plt.savefig(\"images/simple.png\", dpi=200)"
   ]
  },
  {
   "cell_type": "code",
   "execution_count": 2,
   "id": "cafff63e",
   "metadata": {},
   "outputs": [
    {
     "name": "stdout",
     "output_type": "stream",
     "text": [
      "(8, 5)\n",
      "(4, 5)\n",
      "(4, 5)\n"
     ]
    },
    {
     "data": {
      "image/png": "[encoded data removed]",
      "text/plain": [
       "<Figure size 432x288 with 1 Axes>"
      ]
     },
     "metadata": {
      "needs_background": "light"
     },
     "output_type": "display_data"
    }
   ],
   "source": [
    "bars = []\n",
    "sds = []\n",
    "dfs = [df, df[df.Complained == \"Yes\"], df[df.Complained == \"No\"]]\n",
    "\n",
    "for data in dfs:\n",
    "    print(data.shape)\n",
    "    group = data.groupby([\"Received Incentive\"])\n",
    "    counts = group.Total.sum()\n",
    "    churn_rates = group.Churn.sum() / counts\n",
    "    churn_effect = (churn_rates.loc['Yes'] - churn_rates.loc['No']) * 100\n",
    "    sd = 1.96 * 100 * np.sqrt((churn_rates * (1 -churn_rates) / counts).sum())\n",
    "    bars.append(churn_effect)\n",
    "    sds.append(sd)\n",
    "\n",
    "plt.bar([\"Complained: ?\", \"Complained: Yes\", \"Complained: No\"], bars, yerr=sds)\n",
    "ax = plt.gca()\n",
    "ax.set_title(f\"Difference in Churn With & Without Incentive\")\n",
    "ax.yaxis.set_major_formatter(mtick.PercentFormatter())\n",
    "plt.savefig(f\"images/split_complained.png\", dpi=200, bbox_inches='tight')"
   ]
  },
  {
   "cell_type": "code",
   "execution_count": 3,
   "id": "fb44bc3c",
   "metadata": {},
   "outputs": [
    {
     "data": {
      "image/png": "[encoded data removed]",
      "text/plain": [
       "<Figure size 432x288 with 1 Axes>"
      ]
     },
     "metadata": {
      "needs_background": "light"
     },
     "output_type": "display_data"
    }
   ],
   "source": [
    "# Create Chart 3\n",
    "group = df.groupby(\"Complained\")\n",
    "churn_rate = group.Churn.sum() / group.Total.sum()\n",
    "counts = group.Total.sum()\n",
    "sds = 1.96 * 100 * np.sqrt(churn_rate * (1 -churn_rate) / counts)\n",
    "churn_rate = 100* group.Churn.sum() / group.Total.sum()\n",
    "ax = churn_rate.plot.bar(yerr=sds)\n",
    "ax.set_title(\"Churn Rate\")\n",
    "ax.set_ylim(0, 55)\n",
    "plt.xticks(rotation=0)\n",
    "ax.yaxis.set_major_formatter(mtick.PercentFormatter())\n",
    "plt.savefig(\"images/complained_simple.png\", dpi=200, bbox_inches='tight')"
   ]
  },
  {
   "cell_type": "code",
   "execution_count": 4,
   "id": "80b0c5b8",
   "metadata": {},
   "outputs": [
    {
     "data": {
      "image/png": "[encoded data removed]",
      "text/plain": [
       "<Figure size 432x288 with 1 Axes>"
      ]
     },
     "metadata": {
      "needs_background": "light"
     },
     "output_type": "display_data"
    }
   ],
   "source": [
    "# Create Chart 4\n",
    "group = df.groupby(\"Complained\")\n",
    "counts = group.Total.sum()\n",
    "incentive_count = df[df['Received Incentive'] == \"Yes\"].groupby(\"Complained\").Total.sum()\n",
    "incentive_rates = incentive_count / counts\n",
    "sds = 1.96 * 100 * np.sqrt(incentive_rates * (1 -incentive_rates) / counts)\n",
    "ax = (100*incentive_rates).plot.bar(yerr=sds)\n",
    "ax.set_title(\"Received Incentive\")\n",
    "ax.set_ylim(0, 55)\n",
    "plt.xticks(rotation=0)\n",
    "ax.yaxis.set_major_formatter(mtick.PercentFormatter())\n",
    "plt.savefig(\"images/incentive_simple.png\", dpi=200, bbox_inches='tight')"
   ]
  },
  {
   "cell_type": "code",
   "execution_count": 5,
   "id": "04bbf3ce",
   "metadata": {},
   "outputs": [
    {
     "data": {
      "text/html": [
       "<div>\n",
       "<style scoped>\n",
       "    .dataframe tbody tr th:only-of-type {\n",
       "        vertical-align: middle;\n",
       "    }\n",
       "\n",
       "    .dataframe tbody tr th {\n",
       "        vertical-align: top;\n",
       "    }\n",
       "\n",
       "    .dataframe thead th {\n",
       "        text-align: right;\n",
       "    }\n",
       "</style>\n",
       "<table border=\"1\" class=\"dataframe\">\n",
       "  <thead>\n",
       "    <tr style=\"text-align: right;\">\n",
       "      <th></th>\n",
       "      <th>High Value Customer</th>\n",
       "      <th>Complained</th>\n",
       "      <th>Received Incentive</th>\n",
       "      <th>Total</th>\n",
       "      <th>Churn</th>\n",
       "    </tr>\n",
       "  </thead>\n",
       "  <tbody>\n",
       "    <tr>\n",
       "      <th>0</th>\n",
       "      <td>No</td>\n",
       "      <td>Yes</td>\n",
       "      <td>No</td>\n",
       "      <td>5040</td>\n",
       "      <td>3063</td>\n",
       "    </tr>\n",
       "    <tr>\n",
       "      <th>1</th>\n",
       "      <td>No</td>\n",
       "      <td>Yes</td>\n",
       "      <td>Yes</td>\n",
       "      <td>960</td>\n",
       "      <td>647</td>\n",
       "    </tr>\n",
       "    <tr>\n",
       "      <th>2</th>\n",
       "      <td>No</td>\n",
       "      <td>No</td>\n",
       "      <td>No</td>\n",
       "      <td>26880</td>\n",
       "      <td>5523</td>\n",
       "    </tr>\n",
       "    <tr>\n",
       "      <th>3</th>\n",
       "      <td>No</td>\n",
       "      <td>No</td>\n",
       "      <td>Yes</td>\n",
       "      <td>336</td>\n",
       "      <td>95</td>\n",
       "    </tr>\n",
       "    <tr>\n",
       "      <th>4</th>\n",
       "      <td>Yes</td>\n",
       "      <td>Yes</td>\n",
       "      <td>No</td>\n",
       "      <td>1680</td>\n",
       "      <td>318</td>\n",
       "    </tr>\n",
       "    <tr>\n",
       "      <th>5</th>\n",
       "      <td>Yes</td>\n",
       "      <td>Yes</td>\n",
       "      <td>Yes</td>\n",
       "      <td>5760</td>\n",
       "      <td>1716</td>\n",
       "    </tr>\n",
       "    <tr>\n",
       "      <th>6</th>\n",
       "      <td>Yes</td>\n",
       "      <td>No</td>\n",
       "      <td>No</td>\n",
       "      <td>13440</td>\n",
       "      <td>689</td>\n",
       "    </tr>\n",
       "    <tr>\n",
       "      <th>7</th>\n",
       "      <td>Yes</td>\n",
       "      <td>No</td>\n",
       "      <td>Yes</td>\n",
       "      <td>1344</td>\n",
       "      <td>70</td>\n",
       "    </tr>\n",
       "  </tbody>\n",
       "</table>\n",
       "</div>"
      ],
      "text/plain": [
       "  High Value Customer Complained Received Incentive  Total  Churn\n",
       "0                  No        Yes                 No   5040   3063\n",
       "1                  No        Yes                Yes    960    647\n",
       "2                  No         No                 No  26880   5523\n",
       "3                  No         No                Yes    336     95\n",
       "4                 Yes        Yes                 No   1680    318\n",
       "5                 Yes        Yes                Yes   5760   1716\n",
       "6                 Yes         No                 No  13440    689\n",
       "7                 Yes         No                Yes   1344     70"
      ]
     },
     "execution_count": 5,
     "metadata": {},
     "output_type": "execute_result"
    }
   ],
   "source": [
    "df"
   ]
  },
  {
   "cell_type": "code",
   "execution_count": 6,
   "id": "5826c03d",
   "metadata": {},
   "outputs": [
    {
     "name": "stdout",
     "output_type": "stream",
     "text": [
      "(4, 5)\n",
      "(2, 5)\n",
      "(2, 5)\n",
      "(4, 5)\n",
      "(2, 5)\n",
      "(2, 5)\n"
     ]
    },
    {
     "data": {
      "image/png": "[encoded data removed]",
      "text/plain": [
       "<Figure size 864x432 with 1 Axes>"
      ]
     },
     "metadata": {
      "needs_background": "light"
     },
     "output_type": "display_data"
    }
   ],
   "source": [
    "bars = []\n",
    "sds = []\n",
    "dfs = [df[df.Complained == \"Yes\"], \n",
    "       df[(df.Complained == \"Yes\") & (df['High Value Customer'] == \"Yes\")],\n",
    "       df[(df.Complained == \"Yes\") & (df['High Value Customer'] == \"No\")],\n",
    "       df[df.Complained == \"No\"],\n",
    "       df[(df.Complained == \"No\") & (df['High Value Customer'] == \"Yes\")],\n",
    "       df[(df.Complained == \"No\") & (df['High Value Customer'] == \"No\")]]\n",
    "\n",
    "for data in dfs:\n",
    "    print(data.shape)\n",
    "    group = data.groupby([\"Received Incentive\"])\n",
    "    counts = group.Total.sum()\n",
    "    churn_rates = group.Churn.sum() / counts\n",
    "    churn_effect = (churn_rates.loc['Yes'] - churn_rates.loc['No']) * 100\n",
    "    sd = 1.96 * 100 * np.sqrt((churn_rates * (1 -churn_rates) / counts).sum())\n",
    "    bars.append(churn_effect)\n",
    "    sds.append(sd)\n",
    "\n",
    "f, ax = plt.subplots(figsize=(12,6))\n",
    "plt.bar([\"Complained: Yes\", \n",
    "         \"Complained: Yes\\nValue: High\",\n",
    "         \"Complained: Yes\\nValue: Low\",\n",
    "         \"Complained: No\", \n",
    "         \"Complained: No\\nValue: High\",\n",
    "         \"Complained: No\\nValue: Low\"], bars, yerr=sds)\n",
    "ax = plt.gca()\n",
    "ax.set_title(f\"Difference in Churn With & Without Incentive\")\n",
    "ax.yaxis.set_major_formatter(mtick.PercentFormatter())\n",
    "plt.savefig(f\"images/split_complained_value.png\", dpi=200, bbox_inches='tight')"
   ]
  }
 ],
 "metadata": {
  "kernelspec": {
   "display_name": "Python 3",
   "language": "python",
   "name": "python3"
  },
  "language_info": {
   "codemirror_mode": {
    "name": "ipython",
    "version": 3
   },
   "file_extension": ".py",
   "mimetype": "text/x-python",
   "name": "python",
   "nbconvert_exporter": "python",
   "pygments_lexer": "ipython3",
   "version": "3.8.8"
  }
 },
 "nbformat": 4,
 "nbformat_minor": 5
}
